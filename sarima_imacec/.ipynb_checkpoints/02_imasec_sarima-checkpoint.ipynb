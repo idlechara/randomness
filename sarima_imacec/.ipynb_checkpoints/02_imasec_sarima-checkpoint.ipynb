{
 "cells": [
  {
   "cell_type": "code",
   "execution_count": 2,
   "metadata": {},
   "outputs": [],
   "source": [
    "import warnings\n",
    "import itertools\n",
    "import numpy\n",
    "import matplotlib\n",
    "import matplotlib.pyplot as pyplot\n",
    "import pandas\n",
    "import statsmodels.api as statsmodels_api\n",
    "import pylab"
   ]
  },
  {
   "cell_type": "code",
   "execution_count": 3,
   "metadata": {},
   "outputs": [],
   "source": [
    "warnings.filterwarnings(\"ignore\")\n",
    "pyplot.style.use('fivethirtyeight')\n",
    "matplotlib.rcParams['axes.labelsize'] = 14\n",
    "matplotlib.rcParams['xtick.labelsize'] = 12\n",
    "matplotlib.rcParams['ytick.labelsize'] = 12\n",
    "matplotlib.rcParams['text.color'] = 'G'"
   ]
  },
  {
   "cell_type": "code",
   "execution_count": 4,
   "metadata": {},
   "outputs": [],
   "source": [
    "imacec_df = pandas.read_excel(\"input.xls\", skiprows=[0,1], index_col=\"Periodo\")"
   ]
  },
  {
   "cell_type": "code",
   "execution_count": 5,
   "metadata": {},
   "outputs": [],
   "source": [
    "imacec_df.columns = [\"imacec\", \"imacec_minero\", \"imacec_no_minero\", \"imacec_costo_factores\"]"
   ]
  },
  {
   "cell_type": "code",
   "execution_count": 18,
   "metadata": {},
   "outputs": [],
   "source": [
    "def imasec_sarima(imasec_df = imacec_df, column = \"imasec\"):\n",
    "    pylab.rcParams['figure.figsize'] = 18,8\n",
    "    decomposition = statsmodels_api.tsa.seasonal_decompose(imacec_df[\"imacec\"], model='additive')\n",
    "    fig = decomposition.plot()\n",
    "    pyplot.show()\n",
    "\n",
    "    p = d = q = range(0, 2)\n",
    "    pdq = list(itertools.product(p, d, q))\n",
    "    seasonal_pdq = [(x[0], x[1], x[2], 12) for x in list(itertools.product(p, d, q))]\n",
    "\n",
    "    sarimax_tuple_array = []\n",
    "    for param in pdq:\n",
    "        for param_seasonal in seasonal_pdq:\n",
    "            try:\n",
    "                mod = statsmodels_api.tsa.statespace.SARIMAX(imacec_df[\"imacec\"],order=param,seasonal_order=param_seasonal,enforce_stationarity=False,enforce_invertibility=False)\n",
    "                results = mod.fit()\n",
    "                #print('ARIMA{}x{}12 - AIC:{}'.format(param,param_seasonal,results.aic))\n",
    "                sarimax_tuple_array.append((param,param_seasonal,results.aic))\n",
    "            except: \n",
    "                continue\n",
    "\n",
    "    # best fit parameter\n",
    "    sorted_sarimax_results = sorted(sarimax_tuple_array, key = lambda x : x[2])[0:5]\n",
    "\n",
    "    mod = statsmodels_api.tsa.statespace.SARIMAX(imacec_df[\"imacec\"],\n",
    "                                    order=sorted_sarimax_results[0][0],\n",
    "                                    seasonal_order=sorted_sarimax_results[0][1],\n",
    "                                    enforce_stationarity=False,\n",
    "                                    enforce_invertibility=False)\n",
    "    results = mod.fit()\n",
    "    print(results.summary().tables[1])\n",
    "\n",
    "    results.plot_diagnostics(figsize=(18, 8))\n",
    "    pyplot.show()\n",
    "\n",
    "    imasec_start_year = str(imacec_df[\"imacec\"].index.min().year)\n",
    "\n",
    "    pred = results.get_prediction(start=pandas.to_datetime('2018-01-01'), dynamic=False)\n",
    "    pred_ci = pred.conf_int()\n",
    "    ax = imacec_df[\"imacec\"][imasec_start_year:].plot(label='observed')\n",
    "    pred.predicted_mean.plot(ax=ax, label='One-step ahead Forecast', alpha=.7, figsize=(20, 8))\n",
    "    ax.fill_between(pred_ci.index,\n",
    "                    pred_ci.iloc[:, 0],\n",
    "                    pred_ci.iloc[:, 1], color='k', alpha=.2)\n",
    "    ax.set_xlabel('Date')\n",
    "    ax.set_ylabel(column)\n",
    "    pyplot.legend()\n",
    "    pyplot.show()\n",
    "\n",
    "    y_forecasted = pred.predicted_mean\n",
    "    y_truth = imacec_df[\"imacec\"]['2018-01-01':]\n",
    "    mse = ((y_forecasted - y_truth) ** 2).mean()\n",
    "    print('The Mean Squared Error is {}'.format(round(mse, 2)))\n",
    "    print('The Root Mean Squared Error is {}'.format(round(numpy.sqrt(mse), 2)))\n",
    "\n",
    "    pred_uc = results.get_forecast(steps=24)\n",
    "    pred_ci = pred_uc.conf_int()\n",
    "    ax = imacec_df[\"imacec\"].plot(label='observed', figsize=(20, 8))\n",
    "    pred_uc.predicted_mean.plot(ax=ax, label='Forecast')\n",
    "    ax.fill_between(pred_ci.index,\n",
    "                    pred_ci.iloc[:, 0],\n",
    "                    pred_ci.iloc[:, 1], color='k', alpha=.25)\n",
    "    ax.set_xlabel('Date')\n",
    "    ax.set_ylabel(column)\n",
    "    pyplot.legend()\n",
    "    pyplot.show()"
   ]
  },
  {
   "cell_type": "code",
   "execution_count": null,
   "metadata": {},
   "outputs": [],
   "source": []
  }
 ],
 "metadata": {
  "kernelspec": {
   "display_name": "Python 3",
   "language": "python",
   "name": "python3"
  },
  "language_info": {
   "codemirror_mode": {
    "name": "ipython",
    "version": 3
   },
   "file_extension": ".py",
   "mimetype": "text/x-python",
   "name": "python",
   "nbconvert_exporter": "python",
   "pygments_lexer": "ipython3",
   "version": "3.7.4"
  }
 },
 "nbformat": 4,
 "nbformat_minor": 4
}
